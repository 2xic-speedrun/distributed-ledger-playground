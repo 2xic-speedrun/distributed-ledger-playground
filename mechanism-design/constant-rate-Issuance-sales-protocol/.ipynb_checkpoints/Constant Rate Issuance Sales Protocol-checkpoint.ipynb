{
 "cells": [
  {
   "cell_type": "markdown",
   "id": "d3846215",
   "metadata": {},
   "source": [
    "# [https://www.paradigm.xyz/2022/01/constant-rate-issuance-sales-protocol](https://www.paradigm.xyz/2022/01/constant-rate-issuance-sales-protocol)"
   ]
  },
  {
   "cell_type": "code",
   "execution_count": 1,
   "id": "b6001fdc",
   "metadata": {},
   "outputs": [],
   "source": [
    "import ipywidgets as widgets\n",
    "from ipywidgets import HBox, VBox\n",
    "import numpy as np\n",
    "import matplotlib.pyplot as plt\n",
    "from IPython.display import display\n",
    "import numpy as np\n",
    "\n",
    "%matplotlib inline"
   ]
  },
  {
   "cell_type": "markdown",
   "id": "163aad79",
   "metadata": {},
   "source": [
    "## Sales Rate"
   ]
  },
  {
   "cell_type": "code",
   "execution_count": 62,
   "id": "d0b8f8e5",
   "metadata": {},
   "outputs": [
    {
     "data": {
      "application/vnd.jupyter.widget-view+json": {
       "model_id": "ba14130a68fa4b3e8bc4e425c1d03da1",
       "version_major": 2,
       "version_minor": 0
      },
      "text/plain": [
       "interactive(children=(IntSlider(value=10, description='sale_avreage_half_life', min=1), IntSlider(value=2, des…"
      ]
     },
     "metadata": {},
     "output_type": "display_data"
    }
   ],
   "source": [
    "@widgets.interact(min=-10, max=30)\n",
    "def f(\n",
    "        sale_avreage_half_life=widgets.IntSlider(min=1, max=100, step=1, value=10),\n",
    "        sales_per_timestep=widgets.IntSlider(min=1, max=100, step=1, value=2)\n",
    "    ):\n",
    "    b = np.arange(1,101)\n",
    "    t = np.ones((100))\n",
    "    s_b = sales_per_timestep / b\n",
    "\n",
    "    unoptimized = s_b\n",
    "    for i in range(100):\n",
    "        unoptimized[i] = 2 ** (-1 / sale_avreage_half_life) * unoptimized[i - 1] + s_b[i]\n",
    "    plt.plot(unoptimized)"
   ]
  },
  {
   "cell_type": "markdown",
   "id": "168bb33c",
   "metadata": {},
   "source": [
    "## Raising Prices"
   ]
  },
  {
   "cell_type": "code",
   "execution_count": 80,
   "id": "0ba178ac",
   "metadata": {},
   "outputs": [
    {
     "data": {
      "application/vnd.jupyter.widget-view+json": {
       "model_id": "94691e6f75ff4527ae8cc1ff21029562",
       "version_major": 2,
       "version_minor": 0
      },
      "text/plain": [
       "interactive(children=(IntSlider(value=10, description='sale_avreage_half_life', min=1), IntSlider(value=2, des…"
      ]
     },
     "metadata": {},
     "output_type": "display_data"
    }
   ],
   "source": [
    "@widgets.interact(min=-10, max=30)\n",
    "def f(\n",
    "        sale_avreage_half_life=widgets.IntSlider(min=1, max=100, step=1, value=10),\n",
    "        sales_per_timestep=widgets.IntSlider(min=1, max=100, step=1, value=2),\n",
    "        price_increase_speed=widgets.IntSlider(min=1, max=100, step=1, value=2)\n",
    "    ):\n",
    "    b = np.arange(1,101)\n",
    "    t = np.ones((100))\n",
    "    s_b = sales_per_timestep / b\n",
    "    p_0 = 10\n",
    "    \"\"\"\n",
    "    Note, this is not correct. you should adjust based on the error.\n",
    "    \"\"\"\n",
    "    current_ems = np.concatenate([\n",
    "        (np.repeat([50 * n,], 50) - np.linspace(0, 25))\n",
    "        for n in range(1, 3)\n",
    "    ])\n",
    "    \n",
    "    unoptimized = s_b\n",
    "    for i in range(100):\n",
    "        unoptimized[i] = 2 ** (-1 / sale_avreage_half_life) * unoptimized[i - 1] + s_b[i]\n",
    "        \n",
    "    mismatch_ratio = current_ems / unoptimized\n",
    "    \n",
    "    price = p_0 * (1 + mismatch_ratio * price_increase_speed)\n",
    "    \n",
    "    plt.plot(price)\n",
    "    "
   ]
  },
  {
   "cell_type": "code",
   "execution_count": null,
   "id": "98983027",
   "metadata": {},
   "outputs": [],
   "source": [
    "\n"
   ]
  }
 ],
 "metadata": {
  "kernelspec": {
   "display_name": "Python 3 (ipykernel)",
   "language": "python",
   "name": "python3"
  },
  "language_info": {
   "codemirror_mode": {
    "name": "ipython",
    "version": 3
   },
   "file_extension": ".py",
   "mimetype": "text/x-python",
   "name": "python",
   "nbconvert_exporter": "python",
   "pygments_lexer": "ipython3",
   "version": "3.10.6"
  }
 },
 "nbformat": 4,
 "nbformat_minor": 5
}
