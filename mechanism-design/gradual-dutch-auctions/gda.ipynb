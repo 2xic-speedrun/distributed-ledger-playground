{
 "cells": [
  {
   "cell_type": "markdown",
   "id": "97929f42",
   "metadata": {},
   "source": [
    "# [https://www.paradigm.xyz/2022/04/gda](https://www.paradigm.xyz/2022/04/gda)"
   ]
  },
  {
   "cell_type": "code",
   "execution_count": 2,
   "id": "1fa8e3c1",
   "metadata": {},
   "outputs": [],
   "source": [
    "import ipywidgets as widgets\n",
    "from ipywidgets import HBox, VBox\n",
    "import numpy as np\n",
    "import matplotlib.pyplot as plt\n",
    "from IPython.display import display\n",
    "import numpy as np\n",
    "\n",
    "%matplotlib inline"
   ]
  },
  {
   "cell_type": "markdown",
   "id": "5dbbc2cb",
   "metadata": {},
   "source": [
    "### Mechanism"
   ]
  },
  {
   "cell_type": "code",
   "execution_count": 35,
   "id": "d1a97363",
   "metadata": {},
   "outputs": [
    {
     "data": {
      "application/vnd.jupyter.widget-view+json": {
       "model_id": "2ec87793f56b45b68730470d2f7734d1",
       "version_major": 2,
       "version_minor": 0
      },
      "text/plain": [
       "interactive(children=(FloatSlider(value=0.99, description='price_0', max=1000.0), FloatSlider(value=0.99, desc…"
      ]
     },
     "metadata": {},
     "output_type": "display_data"
    }
   ],
   "source": [
    "@widgets.interact(min=-10, max=30)\n",
    "def f(\n",
    "        price_0=widgets.FloatSlider(min=0, max=1000, step=0.1, value=0.99), \n",
    "        decay_constant=widgets.FloatSlider(min=0, max=0.99, step=0.1, value=0.99), \n",
    "        scale_factor=widgets.FloatSlider(min=0, max=0.99, step=0.1, value=0.99),\n",
    "        step_index=widgets.IntSlider(min=1, max=100, step=1, value=1),\n",
    "    ):\n",
    "    t_size = 100\n",
    "    t = np.linspace(0, t_size, num=100)\n",
    "    range_index = np.arange(1, max(1, t_size / step_index))\n",
    "    index = np.repeat(range_index, t_size/range_index.shape[0] + 1)[:t_size]\n",
    "    f = price_0 * scale_factor ** index * np.exp(-decay_constant * t)\n",
    "    plt.plot(t, f)\n",
    "    "
   ]
  },
  {
   "cell_type": "markdown",
   "id": "6e6ee0be",
   "metadata": {},
   "source": [
    "### Calculating batch purchase prices"
   ]
  },
  {
   "cell_type": "code",
   "execution_count": 46,
   "id": "3e60f68e",
   "metadata": {},
   "outputs": [],
   "source": [
    "price_0 = 100\n",
    "scale_factor = 0.8\n",
    "index = 2\n",
    "decay_constant = 0.2\n",
    "assets_sold_this_far = 1\n",
    "T = 100"
   ]
  },
  {
   "cell_type": "code",
   "execution_count": 42,
   "id": "f28e1047",
   "metadata": {},
   "outputs": [],
   "source": [
    "f = lambda q:  price_0 * scale_factor ** index * np.exp(-decay_constant * t)"
   ]
  },
  {
   "cell_type": "code",
   "execution_count": 47,
   "id": "1fd45984",
   "metadata": {},
   "outputs": [],
   "source": [
    "p = lambda q: price_0 * scale_factor**assets_sold_this_far * (\n",
    "    scale_factor ** q - 1\n",
    ") / (\n",
    "    np.exp(decay_constant * T) * (scale_factor - 1)\n",
    ")"
   ]
  },
  {
   "cell_type": "code",
   "execution_count": 49,
   "id": "6eb7eaf5",
   "metadata": {},
   "outputs": [
    {
     "data": {
      "text/plain": [
       "[<matplotlib.lines.Line2D at 0x7f121bec63e0>]"
      ]
     },
     "execution_count": 49,
     "metadata": {},
     "output_type": "execute_result"
    },
    {
     "data": {
      "image/png": "[encoded data removed]",
      "text/plain": [
       "<Figure size 640x480 with 1 Axes>"
      ]
     },
     "metadata": {},
     "output_type": "display_data"
    }
   ],
   "source": [
    "x = list(range(10))\n",
    "plt.plot(x, list(map(p, x)))"
   ]
  },
  {
   "cell_type": "code",
   "execution_count": null,
   "id": "93157342",
   "metadata": {},
   "outputs": [],
   "source": []
  }
 ],
 "metadata": {
  "kernelspec": {
   "display_name": "Python 3 (ipykernel)",
   "language": "python",
   "name": "python3"
  },
  "language_info": {
   "codemirror_mode": {
    "name": "ipython",
    "version": 3
   },
   "file_extension": ".py",
   "mimetype": "text/x-python",
   "name": "python",
   "nbconvert_exporter": "python",
   "pygments_lexer": "ipython3",
   "version": "3.10.6"
  }
 },
 "nbformat": 4,
 "nbformat_minor": 5
}
