{
 "cells": [
  {
   "cell_type": "markdown",
   "id": "a5985524",
   "metadata": {},
   "source": [
    "### [https://www.paradigm.xyz/2022/08/vrgda](https://www.paradigm.xyz/2022/08/vrgda)"
   ]
  },
  {
   "cell_type": "code",
   "execution_count": 6,
   "id": "df4ae32e",
   "metadata": {},
   "outputs": [],
   "source": [
    "import ipywidgets as widgets\n",
    "from ipywidgets import HBox, VBox\n",
    "import numpy as np\n",
    "import matplotlib.pyplot as plt\n",
    "from IPython.display import display\n",
    "import numpy as np\n",
    "\n",
    "%matplotlib inline"
   ]
  },
  {
   "cell_type": "markdown",
   "id": "c7b1998f",
   "metadata": {},
   "source": [
    "## Building up vrgda\n",
    "Notes from the blogpost at Paradigm\n",
    "\n",
    "$f(t)$ is the number of assets we want to be sold at time $t$. We have set $f(t) = t / n$ \n",
    "\n",
    "We use a DUtch Auction per asset like described in the blogpost. So we want the price decay to be by rate $k$ per unit of time $(1-k)^t$\n",
    "\n",
    "To adjust for the starting point we have an additional variable $s_n$ and end up with the following equation $(1-k)^{t-s_n}$.\n",
    "\n",
    "To be flexible on price we also have a $p_0$ variable.\n",
    "\n",
    "$$\\text{vrgda}_n(t) = p_0(1-k)^{1-s_n}$$"
   ]
  },
  {
   "cell_type": "code",
   "execution_count": 22,
   "id": "f686a8a0",
   "metadata": {},
   "outputs": [
    {
     "data": {
      "application/vnd.jupyter.widget-view+json": {
       "model_id": "bbc2528a72124e1597bfeb4466374606",
       "version_major": 2,
       "version_minor": 0
      },
      "text/plain": [
       "interactive(children=(IntSlider(value=10, description='p_0'), FloatSlider(value=0.99, description='k', max=0.9…"
      ]
     },
     "metadata": {},
     "output_type": "display_data"
    }
   ],
   "source": [
    "@widgets.interact(min=-10, max=30)\n",
    "def f(\n",
    "        p_0=widgets.IntSlider(min=0, max=100, step=1, value=10), \n",
    "        k=widgets.FloatSlider(min=0, max=0.99, step=0.1, value=0.99), \n",
    "        s_n=widgets.FloatSlider(min=0, max=100, step=0.1, value=10), \n",
    "        n=widgets.IntSlider(min=0, max=100, step=1, value=10)\n",
    "    ):\n",
    "    t = np.linspace(0, 100)\n",
    "    f = p_0 * (1 - k) ** (t - s_n)\n",
    "    plt.plot(t, f)\n",
    "    plt.title(f\"{p_0} * (1 - {k})^(t - {s_nformula})\")"
   ]
  },
  {
   "cell_type": "code",
   "execution_count": 36,
   "id": "fd2c1678",
   "metadata": {},
   "outputs": [],
   "source": [
    "small_float = 1e-4"
   ]
  },
  {
   "cell_type": "markdown",
   "id": "935d8496",
   "metadata": {},
   "source": [
    "## f(t) = t/2"
   ]
  },
  {
   "cell_type": "code",
   "execution_count": 37,
   "id": "a1164c7d",
   "metadata": {},
   "outputs": [
    {
     "data": {
      "application/vnd.jupyter.widget-view+json": {
       "model_id": "d57843a806cf46d8b183511487b2fb15",
       "version_major": 2,
       "version_minor": 0
      },
      "text/plain": [
       "interactive(children=(IntSlider(value=10, description='p_0'), FloatSlider(value=0.99, description='k', max=0.9…"
      ]
     },
     "metadata": {},
     "output_type": "display_data"
    }
   ],
   "source": [
    "@widgets.interact(min=-10, max=30)\n",
    "def f(\n",
    "        p_0=widgets.IntSlider(min=0, max=100, step=1, value=10), \n",
    "        k=widgets.FloatSlider(min=small_float, max=0.99, step=0.1, value=0.99), \n",
    "        n=widgets.IntSlider(min=0, max=1000, step=1, value=10)\n",
    "    ):\n",
    "    t = np.linspace(0, 100)\n",
    "    f = p_0 * (1 - k) ** (t - (n * t))\n",
    "    plt.plot(t, f)"
   ]
  },
  {
   "cell_type": "markdown",
   "id": "c132115c",
   "metadata": {},
   "source": [
    "## Lienar"
   ]
  },
  {
   "cell_type": "code",
   "execution_count": 38,
   "id": "cd2a3a41",
   "metadata": {},
   "outputs": [
    {
     "data": {
      "application/vnd.jupyter.widget-view+json": {
       "model_id": "06ecf9d47b3c4b3581a959ebf16b0d60",
       "version_major": 2,
       "version_minor": 0
      },
      "text/plain": [
       "interactive(children=(IntSlider(value=10, description='p_0'), FloatSlider(value=0.99, description='k', max=0.9…"
      ]
     },
     "metadata": {},
     "output_type": "display_data"
    }
   ],
   "source": [
    "@widgets.interact(min=-10, max=30)\n",
    "def f(\n",
    "        p_0=widgets.IntSlider(min=0, max=100, step=1, value=10), \n",
    "        k=widgets.FloatSlider(min=small_float, max=0.99, step=0.1, value=0.99), \n",
    "        n=widgets.IntSlider(min=0, max=1000, step=1, value=10),\n",
    "        r=widgets.IntSlider(min=0, max=1000, step=1, value=10)\n",
    "    ):\n",
    "    t = np.linspace(0, 100)\n",
    "    f = p_0 * (1 - k) ** (t - (n/r))\n",
    "    plt.plot(t, f)"
   ]
  },
  {
   "cell_type": "markdown",
   "id": "81cd50ed",
   "metadata": {},
   "source": [
    "## Squre root "
   ]
  },
  {
   "cell_type": "code",
   "execution_count": 28,
   "id": "c0d7bdd8",
   "metadata": {},
   "outputs": [
    {
     "data": {
      "application/vnd.jupyter.widget-view+json": {
       "model_id": "608f3d88e00049b8af9140df043615b5",
       "version_major": 2,
       "version_minor": 0
      },
      "text/plain": [
       "interactive(children=(IntSlider(value=10, description='p_0'), FloatSlider(value=0.99, description='k', max=0.9…"
      ]
     },
     "metadata": {},
     "output_type": "display_data"
    }
   ],
   "source": [
    "@widgets.interact(min=-10, max=30)\n",
    "def f(\n",
    "        p_0=widgets.IntSlider(min=0, max=100, step=1, value=10), \n",
    "        k=widgets.FloatSlider(min=0.0001, max=0.99, step=0.1, value=0.99), \n",
    "        n=widgets.IntSlider(min=0, max=1000, step=1, value=10)\n",
    "    ):\n",
    "    t = np.linspace(0, 100)\n",
    "    f = p_0 * (1 - k) ** (t - (n**2))\n",
    "    plt.plot(t, f)"
   ]
  },
  {
   "cell_type": "markdown",
   "id": "980ee99e",
   "metadata": {},
   "source": [
    "### Logistic issurance schedule "
   ]
  },
  {
   "cell_type": "code",
   "execution_count": 33,
   "id": "4d4f32bc",
   "metadata": {},
   "outputs": [
    {
     "data": {
      "application/vnd.jupyter.widget-view+json": {
       "model_id": "c6d82191a02d4839bf894f63ca2410ee",
       "version_major": 2,
       "version_minor": 0
      },
      "text/plain": [
       "interactive(children=(FloatSlider(value=0.5, description='L'), FloatSlider(value=0.25, description='s', max=1.…"
      ]
     },
     "metadata": {},
     "output_type": "display_data"
    }
   ],
   "source": [
    "@widgets.interact(min=-10, max=30)\n",
    "def f(\n",
    "        L=widgets.FloatSlider(min=0, max=100, step=0.1, value=0.5), \n",
    "        s=widgets.FloatSlider(min=small_float, max=1, step=0.1, value=0.25), \n",
    "    ):\n",
    "    t = np.linspace(0, 100)\n",
    "    f = (2 * L) / (1 + np.exp(-s*t)) - L\n",
    "    plt.plot(t, f)"
   ]
  },
  {
   "cell_type": "code",
   "execution_count": 35,
   "id": "f7a1aed0",
   "metadata": {},
   "outputs": [
    {
     "data": {
      "application/vnd.jupyter.widget-view+json": {
       "model_id": "b16292930a1c42f983241a9a668e6553",
       "version_major": 2,
       "version_minor": 0
      },
      "text/plain": [
       "interactive(children=(IntSlider(value=10, description='p_0'), FloatSlider(value=0.99, description='k', max=0.9…"
      ]
     },
     "metadata": {},
     "output_type": "display_data"
    }
   ],
   "source": [
    "@widgets.interact(min=-10, max=30)\n",
    "def f(\n",
    "        p_0=widgets.IntSlider(min=0, max=100, step=1, value=10), \n",
    "        k=widgets.FloatSlider(min=small_float, max=0.99, step=0.1, value=0.99), \n",
    "        n=widgets.FloatSlider(min=0, max=1000, step=0.1, value=0.001),\n",
    "        s=widgets.FloatSlider(min=0.0001, max=0.99, step=0.1, value=0.99), \n",
    "        L=widgets.FloatSlider(min=0, max=100, step=0.1, value=0.5)\n",
    "    ):\n",
    "    t = np.linspace(0, 100)\n",
    "    f = p_0 * (1 - k) ** (t - (\n",
    "        np.log((2 * L) / (L + n) - 1) / s\n",
    "    ))\n",
    "    plt.plot(t, f)"
   ]
  }
 ],
 "metadata": {
  "kernelspec": {
   "display_name": "Python 3 (ipykernel)",
   "language": "python",
   "name": "python3"
  },
  "language_info": {
   "codemirror_mode": {
    "name": "ipython",
    "version": 3
   },
   "file_extension": ".py",
   "mimetype": "text/x-python",
   "name": "python",
   "nbconvert_exporter": "python",
   "pygments_lexer": "ipython3",
   "version": "3.10.6"
  }
 },
 "nbformat": 4,
 "nbformat_minor": 5
}
