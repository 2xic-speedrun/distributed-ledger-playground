{
 "cells": [
  {
   "cell_type": "markdown",
   "id": "156016eb",
   "metadata": {},
   "source": [
    "https://arxiv.org/pdf/1809.06421.pdf\n",
    "\n",
    "\n",
    "https://blog.woodstockfund.com/2021/05/20/quadratic-funding-a-better-way-to-fund-public-goods/"
   ]
  },
  {
   "cell_type": "code",
   "execution_count": 14,
   "id": "717e3c45",
   "metadata": {},
   "outputs": [],
   "source": [
    "import numpy as np\n",
    "\n",
    "class Pool:\n",
    "    def __init__(self, contributions):\n",
    "        self.contributions = contributions\n",
    "    \n",
    "    def sqrt_sum_exp(self):\n",
    "        return sum([\n",
    "            np.sqrt(i) for i in self.contributions\n",
    "        ]) ** 2"
   ]
  },
  {
   "cell_type": "code",
   "execution_count": 9,
   "id": "bbb1dfb3",
   "metadata": {},
   "outputs": [],
   "source": [
    "P_1 = Pool(\n",
    "    contributions=[1000/5 for i in range(5)]\n",
    ")\n",
    "P_2 = Pool(\n",
    "    contributions=[1000/2 for i in range(2)]\n",
    ")\n",
    "P_3 = Pool(\n",
    "    contributions=[1000/20 for i in range(20)]\n",
    ")"
   ]
  },
  {
   "cell_type": "code",
   "execution_count": 16,
   "id": "3b69cf90",
   "metadata": {},
   "outputs": [
    {
     "data": {
      "text/plain": [
       "5000.0"
      ]
     },
     "execution_count": 16,
     "metadata": {},
     "output_type": "execute_result"
    }
   ],
   "source": [
    "P_1.sqrt_sum_exp()"
   ]
  },
  {
   "cell_type": "code",
   "execution_count": 17,
   "id": "5459dda5",
   "metadata": {},
   "outputs": [
    {
     "data": {
      "text/plain": [
       "2000.0000000000002"
      ]
     },
     "execution_count": 17,
     "metadata": {},
     "output_type": "execute_result"
    }
   ],
   "source": [
    "P_2.sqrt_sum_exp()"
   ]
  },
  {
   "cell_type": "code",
   "execution_count": 19,
   "id": "e829ce35",
   "metadata": {},
   "outputs": [
    {
     "data": {
      "text/plain": [
       "20000.0"
      ]
     },
     "execution_count": 19,
     "metadata": {},
     "output_type": "execute_result"
    }
   ],
   "source": [
    "P_3.sqrt_sum_exp()"
   ]
  },
  {
   "cell_type": "code",
   "execution_count": 38,
   "id": "864f3a71",
   "metadata": {},
   "outputs": [],
   "source": [
    "class SharePool:\n",
    "    def __init__(self, pools):\n",
    "        self.match_pool_amount = 10_000\n",
    "        self.pools = pools\n",
    "        self.sum_pools = sum([ x.sqrt_sum_exp() for x in self.pools])\n",
    "    \n",
    "    def get_share_of_pool(self):\n",
    "        pools = []\n",
    "        for index, i in enumerate(self.pools):\n",
    "            pools.append(f\"Shares of pool_{index} {self.match_pool_amount * i.sqrt_sum_exp()/self.sum_pools}\")\n",
    "        return \"\\n\".join(pools)"
   ]
  },
  {
   "cell_type": "code",
   "execution_count": 39,
   "id": "8cbe06dc",
   "metadata": {},
   "outputs": [],
   "source": [
    "x = SharePool([P_1, P_2, P_3])"
   ]
  },
  {
   "cell_type": "code",
   "execution_count": 40,
   "id": "bfec95de",
   "metadata": {},
   "outputs": [
    {
     "name": "stdout",
     "output_type": "stream",
     "text": [
      "Shares of pool_0 1851.851851851852\n",
      "Shares of pool_1 740.7407407407409\n",
      "Shares of pool_2 7407.407407407408\n"
     ]
    }
   ],
   "source": [
    "print(x.get_share_of_pool())"
   ]
  }
 ],
 "metadata": {
  "kernelspec": {
   "display_name": "Python 3 (ipykernel)",
   "language": "python",
   "name": "python3"
  },
  "language_info": {
   "codemirror_mode": {
    "name": "ipython",
    "version": 3
   },
   "file_extension": ".py",
   "mimetype": "text/x-python",
   "name": "python",
   "nbconvert_exporter": "python",
   "pygments_lexer": "ipython3",
   "version": "3.10.6"
  }
 },
 "nbformat": 4,
 "nbformat_minor": 5
}
